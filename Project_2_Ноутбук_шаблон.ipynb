{
  "cells": [
    {
      "cell_type": "markdown",
      "id": "42289889-bd57-434e-9637-d3e354756316",
      "metadata": {
        "id": "42289889-bd57-434e-9637-d3e354756316"
      },
      "source": [
        "<center> <img src = https://raw.githubusercontent.com/AndreyRysistov/DatasetsForPandas/main/hh%20label.jpg alt=\"drawing\" style=\"width:400px;\">"
      ]
    },
    {
      "cell_type": "markdown",
      "id": "829cb75b-f14e-4ba8-9195-7ba929a7d656",
      "metadata": {
        "id": "829cb75b-f14e-4ba8-9195-7ba929a7d656",
        "tags": []
      },
      "source": [
        "# <center> Проект: Анализ вакансий из HeadHunter\n",
        "   "
      ]
    },
    {
      "cell_type": "code",
      "execution_count": 280,
      "id": "dccfde33-2452-43fb-a8a5-5c6ebc02a71d",
      "metadata": {
        "id": "dccfde33-2452-43fb-a8a5-5c6ebc02a71d"
      },
      "outputs": [],
      "source": [
        "import pandas as pd\n",
        "import psycopg2\n",
        "import warnings\n",
        "import matplotlib.pyplot as plt\n",
        "import requests \n",
        "from bs4 import BeautifulSoup\n",
        "from collections import Counter\n",
        "\n",
        "# отключить надоедливый warning\n",
        "warnings.filterwarnings(\"ignore\", category=UserWarning, message=\"pandas only supports SQLAlchemy connectable\")"
      ]
    },
    {
      "cell_type": "code",
      "execution_count": 142,
      "id": "oVKH4ehvf8Ay",
      "metadata": {
        "id": "oVKH4ehvf8Ay"
      },
      "outputs": [],
      "source": [
        "# вставьте сюда параметры подключения из юнита 1. Работа с базой данных из Python \n",
        "DBNAME = ''\n",
        "USER = ''\n",
        "PASSWORD = ''\n",
        "HOST = ''\n",
        "PORT = 5432"
      ]
    },
    {
      "cell_type": "code",
      "execution_count": 143,
      "id": "G4X_q8KBf7SF",
      "metadata": {
        "id": "G4X_q8KBf7SF"
      },
      "outputs": [],
      "source": [
        "connection = psycopg2.connect(\n",
        "    dbname=DBNAME,\n",
        "    user=USER,\n",
        "    host=HOST,\n",
        "    password=PASSWORD,\n",
        "    port=PORT\n",
        ")"
      ]
    },
    {
      "cell_type": "markdown",
      "id": "0dc6476b-7a00-44f1-ac93-6e3baed33a29",
      "metadata": {
        "id": "0dc6476b-7a00-44f1-ac93-6e3baed33a29"
      },
      "source": [
        "# Юнит 3. Предварительный анализ данных"
      ]
    },
    {
      "cell_type": "markdown",
      "id": "889782b6-8d1c-410e-8920-e57f27917c64",
      "metadata": {
        "id": "889782b6-8d1c-410e-8920-e57f27917c64"
      },
      "source": [
        "1. Напишите запрос, который посчитает количество вакансий в нашей базе (вакансии находятся в таблице vacancies). "
      ]
    },
    {
      "cell_type": "code",
      "execution_count": 243,
      "id": "bc39e68e-ed02-4ee2-9235-7258a2f867a8",
      "metadata": {
        "id": "bc39e68e-ed02-4ee2-9235-7258a2f867a8"
      },
      "outputs": [],
      "source": [
        "# текст запроса\n",
        "query_1 = f'select count(*) from vacancies'"
      ]
    },
    {
      "cell_type": "code",
      "execution_count": 244,
      "id": "7mAwtsk4hEHY",
      "metadata": {
        "id": "7mAwtsk4hEHY"
      },
      "outputs": [
        {
          "name": "stdout",
          "output_type": "stream",
          "text": [
            "Количество вакансий в базе 49197\n"
          ]
        }
      ],
      "source": [
        "# результат запроса\n",
        "with connection.cursor() as cur:\n",
        "    # Выполняем запрос\n",
        "    cur.execute(query_1)\n",
        "\n",
        "    # Получаем результат\n",
        "    number_of_vacancies = cur.fetchone()[0]\n",
        "    print(f'Количество вакансий в базе {number_of_vacancies}')"
      ]
    },
    {
      "cell_type": "markdown",
      "id": "b583485d-1f9e-494e-ada4-80ffff7c53d6",
      "metadata": {
        "id": "b583485d-1f9e-494e-ada4-80ffff7c53d6"
      },
      "source": [
        "2. Напишите запрос, который посчитает количество работодателей (таблица employers). "
      ]
    },
    {
      "cell_type": "code",
      "execution_count": 242,
      "id": "5408c52c-3407-4a63-b25b-1aafa2322d28",
      "metadata": {
        "id": "5408c52c-3407-4a63-b25b-1aafa2322d28"
      },
      "outputs": [],
      "source": [
        "# текст запроса\n",
        "query_2 = f'select count(*) from employers'"
      ]
    },
    {
      "cell_type": "code",
      "execution_count": 245,
      "id": "jVL4eshKhdqc",
      "metadata": {
        "id": "jVL4eshKhdqc"
      },
      "outputs": [
        {
          "name": "stdout",
          "output_type": "stream",
          "text": [
            "23501\n"
          ]
        }
      ],
      "source": [
        "# результат запроса\n",
        "with connection.cursor() as cur:\n",
        "    # Выполняем запрос\n",
        "    cur.execute(query_2)\n",
        "\n",
        "    # Получаем результат\n",
        "    number_of_employers = cur.fetchone()[0]\n",
        "    print(number_of_employers)"
      ]
    },
    {
      "cell_type": "markdown",
      "id": "a2bfff1f-c975-4bf6-84be-2185d79dcb76",
      "metadata": {
        "id": "a2bfff1f-c975-4bf6-84be-2185d79dcb76"
      },
      "source": [
        "3. Посчитате с помощью запроса количество регионов (таблица areas)."
      ]
    },
    {
      "cell_type": "code",
      "execution_count": 241,
      "id": "1m8QJwBYhey6",
      "metadata": {
        "id": "1m8QJwBYhey6"
      },
      "outputs": [],
      "source": [
        "# текст запроса\n",
        "query_3 = f'select count(*) from areas'"
      ]
    },
    {
      "cell_type": "code",
      "execution_count": 246,
      "id": "EZsn9tlfhe7f",
      "metadata": {
        "id": "EZsn9tlfhe7f"
      },
      "outputs": [
        {
          "name": "stdout",
          "output_type": "stream",
          "text": [
            "1362\n"
          ]
        }
      ],
      "source": [
        "# результат запроса\n",
        "with connection.cursor() as cur:\n",
        "    # Выполняем запрос\n",
        "    cur.execute(query_3)\n",
        "\n",
        "    # Получаем результат\n",
        "    number_of_areas = cur.fetchone()[0]\n",
        "    print(number_of_areas)"
      ]
    },
    {
      "cell_type": "markdown",
      "id": "41bb59f3-53cc-4a67-a5bc-bedf573955e4",
      "metadata": {
        "id": "41bb59f3-53cc-4a67-a5bc-bedf573955e4"
      },
      "source": [
        "4. Посчитате с помощью запроса количество сфер деятельности в базе (таблица industries)."
      ]
    },
    {
      "cell_type": "code",
      "execution_count": 247,
      "id": "d286cf4c-707b-4cd2-9190-7ab3587d04a1",
      "metadata": {
        "id": "d286cf4c-707b-4cd2-9190-7ab3587d04a1"
      },
      "outputs": [],
      "source": [
        "# текст запроса\n",
        "query_4 = f'select count(*) from industries'"
      ]
    },
    {
      "cell_type": "code",
      "execution_count": 250,
      "id": "JYAaoZ4qhfzW",
      "metadata": {
        "id": "JYAaoZ4qhfzW"
      },
      "outputs": [
        {
          "name": "stdout",
          "output_type": "stream",
          "text": [
            "294\n"
          ]
        }
      ],
      "source": [
        "# результат запроса\n",
        "with connection.cursor() as cur:\n",
        "    # Выполняем запрос\n",
        "    cur.execute(query_4)\n",
        "\n",
        "    # Получаем результат\n",
        "    number_of_industries = cur.fetchone()[0]\n",
        "    print(number_of_industries)"
      ]
    },
    {
      "cell_type": "markdown",
      "id": "9a8a2181-6914-448b-85f1-38f5f18b8a93",
      "metadata": {
        "id": "9a8a2181-6914-448b-85f1-38f5f18b8a93"
      },
      "source": [
        "***"
      ]
    },
    {
      "cell_type": "code",
      "execution_count": 251,
      "id": "be4e9bd3-a4db-4a20-82fb-6b02fc2957e0",
      "metadata": {
        "id": "be4e9bd3-a4db-4a20-82fb-6b02fc2957e0"
      },
      "outputs": [
        {
          "name": "stdout",
          "output_type": "stream",
          "text": [
            "Успешно получено :\n",
            "Вакансий: 49197\n",
            "Pаботодателей: 23501\n",
            "Регионов: 1362\n",
            "Индустрий: 294\n",
            "\n",
            "Большое количество вакансий указывает на конкуренцию среди работодателей. Также по видимому многие компании открывают сразу несколько вакансий.\n",
            "Количество индустрий свидетельствует о разнообразии отраслей экономики.\n",
            "\n"
          ]
        }
      ],
      "source": [
        "# выводы по предварительному анализу данных\n",
        "print(f'''Успешно получено :\n",
        "Вакансий: {number_of_vacancies}\n",
        "Pаботодателей: {number_of_employers}\n",
        "Регионов: { number_of_areas}\n",
        "Индустрий: {number_of_industries}\n",
        "\n",
        "Большое количество вакансий указывает на конкуренцию среди работодателей. Также по видимому многие компании открывают сразу несколько вакансий.\n",
        "Количество индустрий свидетельствует о разнообразии отраслей экономики.\n",
        "''')"
      ]
    },
    {
      "cell_type": "markdown",
      "id": "8d62a9f3-f64e-4fe7-bdac-c4dffa16155e",
      "metadata": {
        "id": "8d62a9f3-f64e-4fe7-bdac-c4dffa16155e"
      },
      "source": [
        "# Юнит 4. Детальный анализ вакансий"
      ]
    },
    {
      "cell_type": "markdown",
      "id": "93053d3d-b284-481a-9cf7-012d7014c0e0",
      "metadata": {
        "id": "93053d3d-b284-481a-9cf7-012d7014c0e0"
      },
      "source": [
        "1. Напишите запрос, который позволит узнать, сколько (cnt) вакансий в каждом регионе (area).\n",
        "Отсортируйте по количеству вакансий в порядке убывания."
      ]
    },
    {
      "cell_type": "code",
      "execution_count": 101,
      "id": "3f069da6-fdc9-4ae7-b514-fafe2675efd3",
      "metadata": {
        "id": "3f069da6-fdc9-4ae7-b514-fafe2675efd3"
      },
      "outputs": [],
      "source": [
        "# текст запроса\n",
        "query_5 = '''select areas.name, count(areas.name) as count from vacancies \n",
        "inner join areas on vacancies.area_id = areas.id \n",
        "group by areas.name\n",
        "order by count desc'''"
      ]
    },
    {
      "cell_type": "code",
      "execution_count": 102,
      "id": "P7QL86hrjhRJ",
      "metadata": {
        "id": "P7QL86hrjhRJ"
      },
      "outputs": [
        {
          "data": {
            "text/html": [
              "<div>\n",
              "<style scoped>\n",
              "    .dataframe tbody tr th:only-of-type {\n",
              "        vertical-align: middle;\n",
              "    }\n",
              "\n",
              "    .dataframe tbody tr th {\n",
              "        vertical-align: top;\n",
              "    }\n",
              "\n",
              "    .dataframe thead th {\n",
              "        text-align: right;\n",
              "    }\n",
              "</style>\n",
              "<table border=\"1\" class=\"dataframe\">\n",
              "  <thead>\n",
              "    <tr style=\"text-align: right;\">\n",
              "      <th></th>\n",
              "      <th>name</th>\n",
              "      <th>count</th>\n",
              "    </tr>\n",
              "  </thead>\n",
              "  <tbody>\n",
              "    <tr>\n",
              "      <th>0</th>\n",
              "      <td>Москва</td>\n",
              "      <td>5333</td>\n",
              "    </tr>\n",
              "    <tr>\n",
              "      <th>1</th>\n",
              "      <td>Санкт-Петербург</td>\n",
              "      <td>2851</td>\n",
              "    </tr>\n",
              "    <tr>\n",
              "      <th>2</th>\n",
              "      <td>Минск</td>\n",
              "      <td>2112</td>\n",
              "    </tr>\n",
              "    <tr>\n",
              "      <th>3</th>\n",
              "      <td>Новосибирск</td>\n",
              "      <td>2006</td>\n",
              "    </tr>\n",
              "    <tr>\n",
              "      <th>4</th>\n",
              "      <td>Алматы</td>\n",
              "      <td>1892</td>\n",
              "    </tr>\n",
              "  </tbody>\n",
              "</table>\n",
              "</div>"
            ],
            "text/plain": [
              "              name  count\n",
              "0           Москва   5333\n",
              "1  Санкт-Петербург   2851\n",
              "2            Минск   2112\n",
              "3      Новосибирск   2006\n",
              "4           Алматы   1892"
            ]
          },
          "execution_count": 102,
          "metadata": {},
          "output_type": "execute_result"
        }
      ],
      "source": [
        "# результат запроса\n",
        "vacancies_area = pd.read_sql_query(query_5, connection)\n",
        "vacancies_area.head(5)"
      ]
    },
    {
      "cell_type": "markdown",
      "id": "4266f0b6-1646-492a-88b4-2f6a46502135",
      "metadata": {
        "id": "4266f0b6-1646-492a-88b4-2f6a46502135"
      },
      "source": [
        "2. Напишите запрос, чтобы определить у какого количества вакансий заполнено хотя бы одно из двух полей с зарплатой."
      ]
    },
    {
      "cell_type": "code",
      "execution_count": 112,
      "id": "0c44b350-72eb-4d65-8b54-a1fc449ba9fd",
      "metadata": {
        "id": "0c44b350-72eb-4d65-8b54-a1fc449ba9fd"
      },
      "outputs": [],
      "source": [
        "# текст запроса\n",
        "query6 = '''\n",
        "    select count(*) \n",
        "    from vacancies\n",
        "    where salary_from is not null or salary_to is not null'''"
      ]
    },
    {
      "cell_type": "code",
      "execution_count": 113,
      "id": "rhvwaMDkoWTi",
      "metadata": {
        "id": "rhvwaMDkoWTi"
      },
      "outputs": [
        {
          "name": "stdout",
          "output_type": "stream",
          "text": [
            "Количество вакансий у которых заполнено хотя бы одно из двух полей с зарплатой: 24073\n"
          ]
        }
      ],
      "source": [
        "# результат запроса\n",
        "with connection.cursor() as cur:\n",
        "    # Выполняем запрос\n",
        "    cur.execute(query6)\n",
        "\n",
        "    # Получаем результат\n",
        "    number_of_not_empty_records = cur.fetchone()[0]\n",
        "    print(f'Количество вакансий у которых заполнено хотя бы одно из двух полей с зарплатой: {number_of_not_empty_records}')"
      ]
    },
    {
      "cell_type": "markdown",
      "id": "635c4d5d-f323-4c66-b428-50a088120aa0",
      "metadata": {
        "id": "635c4d5d-f323-4c66-b428-50a088120aa0"
      },
      "source": [
        "3. Найдите средние значения для нижней и верхней границы зарплатной вилки. Округлите значения до целого."
      ]
    },
    {
      "cell_type": "code",
      "execution_count": 105,
      "id": "603cdbe4-0ec3-4106-8eaf-c73fcdd29165",
      "metadata": {
        "id": "603cdbe4-0ec3-4106-8eaf-c73fcdd29165"
      },
      "outputs": [],
      "source": [
        "# текст запроса\n",
        "query6 = '''\n",
        "    select *\n",
        "    from vacancies\n",
        "    where salary_from is not null or salary_to is not null'''"
      ]
    },
    {
      "cell_type": "code",
      "execution_count": 106,
      "id": "pswpAb66ovZZ",
      "metadata": {
        "id": "pswpAb66ovZZ"
      },
      "outputs": [
        {
          "name": "stdout",
          "output_type": "stream",
          "text": [
            "Зарплатная вилка:\n",
            "Cредние значения нижней границы: 71065\n",
            "Cредние значения верхней границы: 110537\n"
          ]
        }
      ],
      "source": [
        "# результат запроса\n",
        "vacancies_salary = pd.read_sql_query(query6, connection)\n",
        "print(f'''Зарплатная вилка:\n",
        "Cредние значения нижней границы: {round(vacancies_salary['salary_from'].mean())}\n",
        "Cредние значения верхней границы: {round(vacancies_salary['salary_to'].mean())}''')"
      ]
    },
    {
      "cell_type": "markdown",
      "id": "f3fdaec9-5fd3-4260-9cf5-1d7406b628a5",
      "metadata": {
        "id": "f3fdaec9-5fd3-4260-9cf5-1d7406b628a5"
      },
      "source": [
        "4. Напишите запрос, который выведет количество вакансий для каждого сочетания типа рабочего графика (schedule) и типа трудоустройства (employment), используемого в вакансиях. Результат отсортируйте по убыванию количества.\n"
      ]
    },
    {
      "cell_type": "code",
      "execution_count": 107,
      "id": "1ea710ec-871b-431e-9462-c7d0fd87011b",
      "metadata": {
        "id": "1ea710ec-871b-431e-9462-c7d0fd87011b"
      },
      "outputs": [],
      "source": [
        "# текст запроса\n",
        "query7 = '''\n",
        "    select schedule,employment, count(schedule) as count\n",
        "    from vacancies\n",
        "    group by schedule,employment\n",
        "    order by count desc'''"
      ]
    },
    {
      "cell_type": "code",
      "execution_count": 108,
      "id": "lGUVqavdo4JQ",
      "metadata": {
        "id": "lGUVqavdo4JQ"
      },
      "outputs": [
        {
          "data": {
            "text/html": [
              "<div>\n",
              "<style scoped>\n",
              "    .dataframe tbody tr th:only-of-type {\n",
              "        vertical-align: middle;\n",
              "    }\n",
              "\n",
              "    .dataframe tbody tr th {\n",
              "        vertical-align: top;\n",
              "    }\n",
              "\n",
              "    .dataframe thead th {\n",
              "        text-align: right;\n",
              "    }\n",
              "</style>\n",
              "<table border=\"1\" class=\"dataframe\">\n",
              "  <thead>\n",
              "    <tr style=\"text-align: right;\">\n",
              "      <th></th>\n",
              "      <th>schedule</th>\n",
              "      <th>employment</th>\n",
              "      <th>count</th>\n",
              "    </tr>\n",
              "  </thead>\n",
              "  <tbody>\n",
              "    <tr>\n",
              "      <th>0</th>\n",
              "      <td>Полный день</td>\n",
              "      <td>Полная занятость</td>\n",
              "      <td>35367</td>\n",
              "    </tr>\n",
              "    <tr>\n",
              "      <th>1</th>\n",
              "      <td>Удаленная работа</td>\n",
              "      <td>Полная занятость</td>\n",
              "      <td>7802</td>\n",
              "    </tr>\n",
              "    <tr>\n",
              "      <th>2</th>\n",
              "      <td>Гибкий график</td>\n",
              "      <td>Полная занятость</td>\n",
              "      <td>1593</td>\n",
              "    </tr>\n",
              "    <tr>\n",
              "      <th>3</th>\n",
              "      <td>Удаленная работа</td>\n",
              "      <td>Частичная занятость</td>\n",
              "      <td>1312</td>\n",
              "    </tr>\n",
              "    <tr>\n",
              "      <th>4</th>\n",
              "      <td>Сменный график</td>\n",
              "      <td>Полная занятость</td>\n",
              "      <td>940</td>\n",
              "    </tr>\n",
              "    <tr>\n",
              "      <th>5</th>\n",
              "      <td>Полный день</td>\n",
              "      <td>Стажировка</td>\n",
              "      <td>569</td>\n",
              "    </tr>\n",
              "    <tr>\n",
              "      <th>6</th>\n",
              "      <td>Вахтовый метод</td>\n",
              "      <td>Полная занятость</td>\n",
              "      <td>367</td>\n",
              "    </tr>\n",
              "    <tr>\n",
              "      <th>7</th>\n",
              "      <td>Полный день</td>\n",
              "      <td>Частичная занятость</td>\n",
              "      <td>347</td>\n",
              "    </tr>\n",
              "    <tr>\n",
              "      <th>8</th>\n",
              "      <td>Гибкий график</td>\n",
              "      <td>Частичная занятость</td>\n",
              "      <td>312</td>\n",
              "    </tr>\n",
              "    <tr>\n",
              "      <th>9</th>\n",
              "      <td>Полный день</td>\n",
              "      <td>Проектная работа</td>\n",
              "      <td>141</td>\n",
              "    </tr>\n",
              "    <tr>\n",
              "      <th>10</th>\n",
              "      <td>Удаленная работа</td>\n",
              "      <td>Проектная работа</td>\n",
              "      <td>133</td>\n",
              "    </tr>\n",
              "    <tr>\n",
              "      <th>11</th>\n",
              "      <td>Гибкий график</td>\n",
              "      <td>Стажировка</td>\n",
              "      <td>116</td>\n",
              "    </tr>\n",
              "    <tr>\n",
              "      <th>12</th>\n",
              "      <td>Сменный график</td>\n",
              "      <td>Частичная занятость</td>\n",
              "      <td>101</td>\n",
              "    </tr>\n",
              "    <tr>\n",
              "      <th>13</th>\n",
              "      <td>Удаленная работа</td>\n",
              "      <td>Стажировка</td>\n",
              "      <td>64</td>\n",
              "    </tr>\n",
              "    <tr>\n",
              "      <th>14</th>\n",
              "      <td>Гибкий график</td>\n",
              "      <td>Проектная работа</td>\n",
              "      <td>18</td>\n",
              "    </tr>\n",
              "    <tr>\n",
              "      <th>15</th>\n",
              "      <td>Сменный график</td>\n",
              "      <td>Стажировка</td>\n",
              "      <td>12</td>\n",
              "    </tr>\n",
              "    <tr>\n",
              "      <th>16</th>\n",
              "      <td>Вахтовый метод</td>\n",
              "      <td>Проектная работа</td>\n",
              "      <td>2</td>\n",
              "    </tr>\n",
              "    <tr>\n",
              "      <th>17</th>\n",
              "      <td>Сменный график</td>\n",
              "      <td>Проектная работа</td>\n",
              "      <td>1</td>\n",
              "    </tr>\n",
              "  </tbody>\n",
              "</table>\n",
              "</div>"
            ],
            "text/plain": [
              "            schedule           employment  count\n",
              "0        Полный день     Полная занятость  35367\n",
              "1   Удаленная работа     Полная занятость   7802\n",
              "2      Гибкий график     Полная занятость   1593\n",
              "3   Удаленная работа  Частичная занятость   1312\n",
              "4     Сменный график     Полная занятость    940\n",
              "5        Полный день           Стажировка    569\n",
              "6     Вахтовый метод     Полная занятость    367\n",
              "7        Полный день  Частичная занятость    347\n",
              "8      Гибкий график  Частичная занятость    312\n",
              "9        Полный день     Проектная работа    141\n",
              "10  Удаленная работа     Проектная работа    133\n",
              "11     Гибкий график           Стажировка    116\n",
              "12    Сменный график  Частичная занятость    101\n",
              "13  Удаленная работа           Стажировка     64\n",
              "14     Гибкий график     Проектная работа     18\n",
              "15    Сменный график           Стажировка     12\n",
              "16    Вахтовый метод     Проектная работа      2\n",
              "17    Сменный график     Проектная работа      1"
            ]
          },
          "execution_count": 108,
          "metadata": {},
          "output_type": "execute_result"
        }
      ],
      "source": [
        "# результат запроса\n",
        "vacancies_schedule = pd.read_sql_query(query7, connection)\n",
        "vacancies_schedule"
      ]
    },
    {
      "cell_type": "markdown",
      "id": "0136ffee-0ead-4a6b-b608-61d1c753a438",
      "metadata": {
        "id": "0136ffee-0ead-4a6b-b608-61d1c753a438"
      },
      "source": [
        "5. Напишите запрос, выводящий значения поля Требуемый опыт работы (experience) в порядке возрастания количества вакансий, в которых указан данный вариант опыта. "
      ]
    },
    {
      "cell_type": "code",
      "execution_count": 126,
      "id": "5b3a8e79-f7ab-4008-b767-12aea3a205ea",
      "metadata": {
        "id": "5b3a8e79-f7ab-4008-b767-12aea3a205ea"
      },
      "outputs": [],
      "source": [
        "# текст запроса\n",
        "query8 = '''\n",
        "    select experience as \"Требуемый опыт работы\", count(schedule) as count\n",
        "    from vacancies\n",
        "    group by experience\n",
        "    order by count'''"
      ]
    },
    {
      "cell_type": "code",
      "execution_count": 153,
      "id": "3Is64Y-hpDpq",
      "metadata": {
        "id": "3Is64Y-hpDpq"
      },
      "outputs": [
        {
          "data": {
            "text/html": [
              "<div>\n",
              "<style scoped>\n",
              "    .dataframe tbody tr th:only-of-type {\n",
              "        vertical-align: middle;\n",
              "    }\n",
              "\n",
              "    .dataframe tbody tr th {\n",
              "        vertical-align: top;\n",
              "    }\n",
              "\n",
              "    .dataframe thead th {\n",
              "        text-align: right;\n",
              "    }\n",
              "</style>\n",
              "<table border=\"1\" class=\"dataframe\">\n",
              "  <thead>\n",
              "    <tr style=\"text-align: right;\">\n",
              "      <th></th>\n",
              "      <th>Требуемый опыт работы</th>\n",
              "      <th>count</th>\n",
              "    </tr>\n",
              "  </thead>\n",
              "  <tbody>\n",
              "    <tr>\n",
              "      <th>0</th>\n",
              "      <td>Более 6 лет</td>\n",
              "      <td>1337</td>\n",
              "    </tr>\n",
              "    <tr>\n",
              "      <th>1</th>\n",
              "      <td>Нет опыта</td>\n",
              "      <td>7197</td>\n",
              "    </tr>\n",
              "    <tr>\n",
              "      <th>2</th>\n",
              "      <td>От 3 до 6 лет</td>\n",
              "      <td>14511</td>\n",
              "    </tr>\n",
              "    <tr>\n",
              "      <th>3</th>\n",
              "      <td>От 1 года до 3 лет</td>\n",
              "      <td>26152</td>\n",
              "    </tr>\n",
              "  </tbody>\n",
              "</table>\n",
              "</div>"
            ],
            "text/plain": [
              "  Требуемый опыт работы  count\n",
              "0           Более 6 лет   1337\n",
              "1             Нет опыта   7197\n",
              "2         От 3 до 6 лет  14511\n",
              "3    От 1 года до 3 лет  26152"
            ]
          },
          "execution_count": 153,
          "metadata": {},
          "output_type": "execute_result"
        }
      ],
      "source": [
        "# результат запроса\n",
        "vacancies_experience = pd.read_sql_query(query8, connection)\n",
        "vacancies_experience"
      ]
    },
    {
      "cell_type": "markdown",
      "id": "oq2b7n1QpIka",
      "metadata": {
        "id": "oq2b7n1QpIka"
      },
      "source": [
        "***"
      ]
    },
    {
      "cell_type": "code",
      "execution_count": 154,
      "id": "e91f87ed-e25c-4f96-9f92-b642e8c0b4fa",
      "metadata": {
        "id": "e91f87ed-e25c-4f96-9f92-b642e8c0b4fa"
      },
      "outputs": [
        {
          "data": {
            "image/png": "[encoded data removed]",
            "text/plain": [
              "<Figure size 640x480 with 1 Axes>"
            ]
          },
          "metadata": {},
          "output_type": "display_data"
        },
        {
          "data": {
            "image/png": "[encoded data removed]",
            "text/plain": [
              "<Figure size 640x480 with 1 Axes>"
            ]
          },
          "metadata": {},
          "output_type": "display_data"
        }
      ],
      "source": [
        "# выводы по детальному анализу вакансий\n",
        "\n",
        "#Распределение вакансий по регионам. Топ 20\n",
        "top_20_regions = vacancies_area.head(20)\n",
        "# Построение столбчатой диаграммы\n",
        "plt.bar(top_20_regions['name'], top_20_regions['count'])\n",
        "\n",
        "# Настройка заголовка и меток осей\n",
        "plt.title('Распределение вакансий по регионам. Топ 20')\n",
        "plt.xlabel('Регион')\n",
        "plt.ylabel('Количество вакансий')\n",
        "plt.xticks(rotation=80)\n",
        "plt.show()\n",
        "\n",
        "#Распределение вакансий по требуемому опыту работы\n",
        "# Построение круговой диаграммы\n",
        "plt.pie(vacancies_experience['count'], labels=vacancies_experience['Требуемый опыт работы'], autopct='%1.1f%%')\n",
        "\n",
        "# Настройка заголовка\n",
        "plt.title('Распределение вакансий по требуемому опыту работы')\n",
        "\n",
        "# Отображение диаграммы\n",
        "plt.show()"
      ]
    },
    {
      "cell_type": "markdown",
      "id": "7ea20ab6-04a7-40a0-adec-443a0e5a42c3",
      "metadata": {
        "id": "7ea20ab6-04a7-40a0-adec-443a0e5a42c3"
      },
      "source": [
        "# Юнит 5. Анализ работодателей"
      ]
    },
    {
      "cell_type": "markdown",
      "id": "968aed80-74ef-4ffb-b5bf-c65b84e9caea",
      "metadata": {
        "id": "968aed80-74ef-4ffb-b5bf-c65b84e9caea"
      },
      "source": [
        "1. Напишите запрос, который позволит узнать, какие работодатели находятся на первом и пятом месте по количеству вакансий."
      ]
    },
    {
      "cell_type": "code",
      "execution_count": 102,
      "id": "f2d62796-d400-4ec1-a675-88112739a50e",
      "metadata": {
        "id": "f2d62796-d400-4ec1-a675-88112739a50e"
      },
      "outputs": [],
      "source": [
        "# текст запроса\n",
        "query_9 = '''select employers.name, count(employers.name) as count from vacancies \n",
        "inner join employers on vacancies.employer_id = employers.id \n",
        "group by employers.name\n",
        "order by count desc'''"
      ]
    },
    {
      "cell_type": "code",
      "execution_count": 103,
      "id": "64tOMkAxqkQk",
      "metadata": {
        "id": "64tOMkAxqkQk"
      },
      "outputs": [
        {
          "data": {
            "text/html": [
              "<div>\n",
              "<style scoped>\n",
              "    .dataframe tbody tr th:only-of-type {\n",
              "        vertical-align: middle;\n",
              "    }\n",
              "\n",
              "    .dataframe tbody tr th {\n",
              "        vertical-align: top;\n",
              "    }\n",
              "\n",
              "    .dataframe thead th {\n",
              "        text-align: right;\n",
              "    }\n",
              "</style>\n",
              "<table border=\"1\" class=\"dataframe\">\n",
              "  <thead>\n",
              "    <tr style=\"text-align: right;\">\n",
              "      <th></th>\n",
              "      <th>name</th>\n",
              "      <th>count</th>\n",
              "    </tr>\n",
              "  </thead>\n",
              "  <tbody>\n",
              "    <tr>\n",
              "      <th>0</th>\n",
              "      <td>Яндекс</td>\n",
              "      <td>1933</td>\n",
              "    </tr>\n",
              "    <tr>\n",
              "      <th>1</th>\n",
              "      <td>Ростелеком</td>\n",
              "      <td>491</td>\n",
              "    </tr>\n",
              "    <tr>\n",
              "      <th>2</th>\n",
              "      <td>Тинькофф</td>\n",
              "      <td>444</td>\n",
              "    </tr>\n",
              "    <tr>\n",
              "      <th>3</th>\n",
              "      <td>СБЕР</td>\n",
              "      <td>428</td>\n",
              "    </tr>\n",
              "    <tr>\n",
              "      <th>4</th>\n",
              "      <td>Газпром нефть</td>\n",
              "      <td>331</td>\n",
              "    </tr>\n",
              "  </tbody>\n",
              "</table>\n",
              "</div>"
            ],
            "text/plain": [
              "            name  count\n",
              "0         Яндекс   1933\n",
              "1     Ростелеком    491\n",
              "2       Тинькофф    444\n",
              "3           СБЕР    428\n",
              "4  Газпром нефть    331"
            ]
          },
          "execution_count": 103,
          "metadata": {},
          "output_type": "execute_result"
        }
      ],
      "source": [
        "# результат запроса\n",
        "vacancies_employers = pd.read_sql_query(query_9, connection)\n",
        "vacancies_employers.head()"
      ]
    },
    {
      "cell_type": "markdown",
      "id": "68377cfc-b378-43dc-ab7d-1195abf2c515",
      "metadata": {
        "id": "68377cfc-b378-43dc-ab7d-1195abf2c515"
      },
      "source": [
        "2. Напишите запрос, который для каждого региона выведет количество работодателей и вакансий в нём.\n",
        "Среди регионов, в которых нет вакансий, найдите тот, в котором наибольшее количество работодателей.\n"
      ]
    },
    {
      "cell_type": "code",
      "execution_count": 11,
      "id": "dd7df27a-e3e8-412e-a21a-5d389b71e891",
      "metadata": {
        "id": "dd7df27a-e3e8-412e-a21a-5d389b71e891"
      },
      "outputs": [],
      "source": [
        "# текст запроса. \n",
        "# использование вложенного запроса вместо второго join работает быстрее\n",
        "query_10 = '''\n",
        "select  \n",
        "    areas.name AS region,\n",
        "    count(distinct  employers.id) as employer_count,\n",
        "    (SELECT COUNT(vacancies.id) FROM vacancies WHERE vacancies.area_id = areas.id) AS vacancy_count\n",
        "from areas\n",
        "left join employers on areas.id = employers.area\n",
        "group by areas.name,areas.id\n",
        "order by employer_count desc\n",
        "'''"
      ]
    },
    {
      "cell_type": "code",
      "execution_count": 20,
      "id": "x1ikWbydrbf6",
      "metadata": {
        "id": "x1ikWbydrbf6"
      },
      "outputs": [
        {
          "data": {
            "text/html": [
              "<div>\n",
              "<style scoped>\n",
              "    .dataframe tbody tr th:only-of-type {\n",
              "        vertical-align: middle;\n",
              "    }\n",
              "\n",
              "    .dataframe tbody tr th {\n",
              "        vertical-align: top;\n",
              "    }\n",
              "\n",
              "    .dataframe thead th {\n",
              "        text-align: right;\n",
              "    }\n",
              "</style>\n",
              "<table border=\"1\" class=\"dataframe\">\n",
              "  <thead>\n",
              "    <tr style=\"text-align: right;\">\n",
              "      <th></th>\n",
              "      <th>region</th>\n",
              "      <th>employer_count</th>\n",
              "      <th>vacancy_count</th>\n",
              "    </tr>\n",
              "  </thead>\n",
              "  <tbody>\n",
              "    <tr>\n",
              "      <th>0</th>\n",
              "      <td>Москва</td>\n",
              "      <td>5864</td>\n",
              "      <td>5333</td>\n",
              "    </tr>\n",
              "    <tr>\n",
              "      <th>1</th>\n",
              "      <td>Санкт-Петербург</td>\n",
              "      <td>2217</td>\n",
              "      <td>2851</td>\n",
              "    </tr>\n",
              "  </tbody>\n",
              "</table>\n",
              "</div>"
            ],
            "text/plain": [
              "            region  employer_count  vacancy_count\n",
              "0           Москва            5864           5333\n",
              "1  Санкт-Петербург            2217           2851"
            ]
          },
          "metadata": {},
          "output_type": "display_data"
        },
        {
          "name": "stdout",
          "output_type": "stream",
          "text": [
            "Регион в котором наибольшее количество работодателей и нет вакансий Россия\n"
          ]
        }
      ],
      "source": [
        "# результат запроса\n",
        "areas_employers = pd.read_sql_query(query_10, connection)\n",
        "display(areas_employers.head(2))\n",
        "\n",
        "#находим регион в котором наибольшее количество работодателей и нет вакансий.\n",
        "#из постановки задачи не понял надо было этот фильтр в SQL ставить или реализовавать в DataFrame.\n",
        "filtered_df = areas_employers[areas_employers['vacancy_count'] == 0] \n",
        "result = filtered_df.loc[filtered_df['employer_count'].idxmax()]\n",
        "\n",
        "print(f\"Регион в котором наибольшее количество работодателей и нет вакансий: {result['region']}\")\n"
      ]
    },
    {
      "cell_type": "markdown",
      "id": "f2fe0acb-ab1a-4e15-9326-2560e22d73c1",
      "metadata": {
        "id": "f2fe0acb-ab1a-4e15-9326-2560e22d73c1"
      },
      "source": [
        "3. Для каждого работодателя посчитайте количество регионов, в которых он публикует свои вакансии. Отсортируйте результат по убыванию количества.\n"
      ]
    },
    {
      "cell_type": "code",
      "execution_count": 111,
      "id": "6271f8ad-bd2e-4196-ae4a-5b39c4c1010e",
      "metadata": {
        "id": "6271f8ad-bd2e-4196-ae4a-5b39c4c1010e"
      },
      "outputs": [],
      "source": [
        "# текст запроса\n",
        "query_11 = '''select  count(distinct area_id) as areas_count,\n",
        "employer_id AS employer  \n",
        "from vacancies\n",
        "group BY employer\n",
        "order by areas_count desc'''"
      ]
    },
    {
      "cell_type": "code",
      "execution_count": 24,
      "id": "1EIvX3HasH4F",
      "metadata": {
        "id": "1EIvX3HasH4F"
      },
      "outputs": [
        {
          "data": {
            "text/html": [
              "<div>\n",
              "<style scoped>\n",
              "    .dataframe tbody tr th:only-of-type {\n",
              "        vertical-align: middle;\n",
              "    }\n",
              "\n",
              "    .dataframe tbody tr th {\n",
              "        vertical-align: top;\n",
              "    }\n",
              "\n",
              "    .dataframe thead th {\n",
              "        text-align: right;\n",
              "    }\n",
              "</style>\n",
              "<table border=\"1\" class=\"dataframe\">\n",
              "  <thead>\n",
              "    <tr style=\"text-align: right;\">\n",
              "      <th></th>\n",
              "      <th>areas_count</th>\n",
              "      <th>employer</th>\n",
              "    </tr>\n",
              "  </thead>\n",
              "  <tbody>\n",
              "    <tr>\n",
              "      <th>0</th>\n",
              "      <td>181</td>\n",
              "      <td>1740</td>\n",
              "    </tr>\n",
              "    <tr>\n",
              "      <th>1</th>\n",
              "      <td>152</td>\n",
              "      <td>2748</td>\n",
              "    </tr>\n",
              "    <tr>\n",
              "      <th>2</th>\n",
              "      <td>116</td>\n",
              "      <td>5724811</td>\n",
              "    </tr>\n",
              "    <tr>\n",
              "      <th>3</th>\n",
              "      <td>88</td>\n",
              "      <td>5130287</td>\n",
              "    </tr>\n",
              "    <tr>\n",
              "      <th>4</th>\n",
              "      <td>71</td>\n",
              "      <td>3682876</td>\n",
              "    </tr>\n",
              "  </tbody>\n",
              "</table>\n",
              "</div>"
            ],
            "text/plain": [
              "   areas_count  employer\n",
              "0          181      1740\n",
              "1          152      2748\n",
              "2          116   5724811\n",
              "3           88   5130287\n",
              "4           71   3682876"
            ]
          },
          "execution_count": 24,
          "metadata": {},
          "output_type": "execute_result"
        }
      ],
      "source": [
        "# результат запроса\n",
        "employer_vacancies_area = pd.read_sql_query(query_11, connection)\n",
        "employer_vacancies_area.head()"
      ]
    },
    {
      "cell_type": "markdown",
      "id": "eab2206d-d95b-468b-8e5f-34381abf0ce7",
      "metadata": {
        "id": "eab2206d-d95b-468b-8e5f-34381abf0ce7"
      },
      "source": [
        "4. Напишите запрос для подсчёта количества работодателей, у которых не указана сфера деятельности. "
      ]
    },
    {
      "cell_type": "code",
      "execution_count": 25,
      "id": "80defb23-bfb1-4a18-8be6-bf36aa7165d5",
      "metadata": {
        "id": "80defb23-bfb1-4a18-8be6-bf36aa7165d5"
      },
      "outputs": [],
      "source": [
        "# текст запроса\n",
        "query_12 = '''\n",
        "select count(*)\n",
        "from(\n",
        "    select id as employer_id\n",
        "    from employers\n",
        "    except\n",
        "    select employer_id\n",
        "    from employers_industries\n",
        ") as result '''"
      ]
    },
    {
      "cell_type": "code",
      "execution_count": 28,
      "id": "Dp_yCx6ysQSu",
      "metadata": {
        "id": "Dp_yCx6ysQSu"
      },
      "outputs": [
        {
          "name": "stdout",
          "output_type": "stream",
          "text": [
            "Количество работодателей, у которых не указана сфера деятельности 8419\n"
          ]
        }
      ],
      "source": [
        "# результат запроса\n",
        "with connection.cursor() as cur:\n",
        "    # Выполняем запрос\n",
        "    cur.execute(query_12)\n",
        "\n",
        "    # Получаем результат\n",
        "    result = cur.fetchone()[0]\n",
        "    print(f'Количество работодателей, у которых не указана сфера деятельности {result}')"
      ]
    },
    {
      "cell_type": "markdown",
      "id": "0112af31-f6b0-4e3b-82ab-71296e752e5e",
      "metadata": {
        "id": "0112af31-f6b0-4e3b-82ab-71296e752e5e"
      },
      "source": [
        "5. Напишите запрос, чтобы узнать название компании, находящейся на третьем месте в алфавитном списке (по названию) компаний, у которых указано четыре сферы деятельности. "
      ]
    },
    {
      "cell_type": "code",
      "execution_count": 29,
      "id": "973b0cfc-a972-470a-8b4a-68744ef220c4",
      "metadata": {
        "id": "973b0cfc-a972-470a-8b4a-68744ef220c4"
      },
      "outputs": [],
      "source": [
        "# текст запроса\n",
        "query_13 = '''select  employers.name, employers.id, count(inds.name) as inds_count\n",
        "from employers\n",
        "inner join employers_industries as ei on employers.id = ei.employer_id\n",
        "inner join industries as inds on ei.industry_id = inds.id\n",
        "group by employers.name, employers.id\n",
        "having count(inds.name) = 4\n",
        "order by employers.name\n",
        "limit 1 offset 2 '''"
      ]
    },
    {
      "cell_type": "code",
      "execution_count": 33,
      "id": "xsPtpp8EsaED",
      "metadata": {
        "id": "xsPtpp8EsaED"
      },
      "outputs": [
        {
          "name": "stdout",
          "output_type": "stream",
          "text": [
            "Название компании, находящейся на третьем месте в алфавитном списке (по названию) компаний, \n",
            "у которых указано четыре сферы деятельности: 2ГИС\n"
          ]
        }
      ],
      "source": [
        "# результат запроса\n",
        "with connection.cursor() as cur:\n",
        "    # Выполняем запрос\n",
        "    cur.execute(query_13)\n",
        "\n",
        "    # Получаем результат\n",
        "    result = cur.fetchone()[0]\n",
        "    print(f'''Название компании, находящейся на третьем месте в алфавитном списке (по названию) компаний, \n",
        "у которых указано четыре сферы деятельности: {result}''')"
      ]
    },
    {
      "cell_type": "markdown",
      "id": "3bfcfdaf-755d-4d2b-8ed8-326201dc07ab",
      "metadata": {
        "id": "3bfcfdaf-755d-4d2b-8ed8-326201dc07ab"
      },
      "source": [
        "6. С помощью запроса выясните, у какого количества работодателей в качестве сферы деятельности указана Разработка программного обеспечения.\n"
      ]
    },
    {
      "cell_type": "code",
      "execution_count": 36,
      "id": "ad3f270f-2991-47eb-929b-e8f88a55b0d1",
      "metadata": {
        "id": "ad3f270f-2991-47eb-929b-e8f88a55b0d1"
      },
      "outputs": [],
      "source": [
        "# текст запроса\n",
        "query_14 = '''select count(distinct ei.employer_id) \n",
        "from industries as i\n",
        "inner join employers_industries as ei on i.id = ei.industry_id\n",
        "where i.name = 'Разработка программного обеспечения'\n",
        "group by i.name'''"
      ]
    },
    {
      "cell_type": "code",
      "execution_count": 58,
      "id": "H72qxWM0shPR",
      "metadata": {
        "id": "H72qxWM0shPR"
      },
      "outputs": [
        {
          "name": "stdout",
          "output_type": "stream",
          "text": [
            "У 3553 работодателей в качестве сферы деятельности указана \"Разработка программного обеспечения\"\n"
          ]
        }
      ],
      "source": [
        "# результат запроса\n",
        "with connection.cursor() as cur:\n",
        "    # Выполняем запрос\n",
        "    cur.execute(query_14)\n",
        "\n",
        "    # Получаем результат\n",
        "    result = cur.fetchone()[0]\n",
        "    print(f'''У {result} работодателей в качестве сферы деятельности указана \"Разработка программного обеспечения\"''')"
      ]
    },
    {
      "cell_type": "markdown",
      "id": "7b02bb86-0546-40fb-94a4-242f050a5c57",
      "metadata": {
        "id": "7b02bb86-0546-40fb-94a4-242f050a5c57"
      },
      "source": [
        "7. Для компании «Яндекс» выведите список регионов-миллионников, в которых представлены вакансии компании, вместе с количеством вакансий в этих регионах. Также добавьте строку Total с общим количеством вакансий компании. Результат отсортируйте по возрастанию количества.\n",
        "\n",
        "Список городов-милионников надо взять [отсюда](https://ru.wikipedia.org/wiki/%D0%93%D0%BE%D1%80%D0%BE%D0%B4%D0%B0-%D0%BC%D0%B8%D0%BB%D0%BB%D0%B8%D0%BE%D0%BD%D0%B5%D1%80%D1%8B_%D0%A0%D0%BE%D1%81%D1%81%D0%B8%D0%B8). \n",
        "\n",
        "Если возникнут трудности с этим задание посмотрите материалы модуля  PYTHON-17. Как получать данные из веб-источников и API. "
      ]
    },
    {
      "cell_type": "code",
      "execution_count": 59,
      "id": "ZdfrL6gIs1Pn",
      "metadata": {
        "id": "ZdfrL6gIs1Pn"
      },
      "outputs": [
        {
          "data": {
            "text/html": [
              "<div>\n",
              "<style scoped>\n",
              "    .dataframe tbody tr th:only-of-type {\n",
              "        vertical-align: middle;\n",
              "    }\n",
              "\n",
              "    .dataframe tbody tr th {\n",
              "        vertical-align: top;\n",
              "    }\n",
              "\n",
              "    .dataframe thead th {\n",
              "        text-align: right;\n",
              "    }\n",
              "</style>\n",
              "<table border=\"1\" class=\"dataframe\">\n",
              "  <thead>\n",
              "    <tr style=\"text-align: right;\">\n",
              "      <th></th>\n",
              "      <th>Город</th>\n",
              "    </tr>\n",
              "  </thead>\n",
              "  <tbody>\n",
              "    <tr>\n",
              "      <th>0</th>\n",
              "      <td>Москва</td>\n",
              "    </tr>\n",
              "    <tr>\n",
              "      <th>1</th>\n",
              "      <td>Санкт-Петербург</td>\n",
              "    </tr>\n",
              "  </tbody>\n",
              "</table>\n",
              "</div>"
            ],
            "text/plain": [
              "             Город\n",
              "0           Москва\n",
              "1  Санкт-Петербург"
            ]
          },
          "execution_count": 59,
          "metadata": {},
          "output_type": "execute_result"
        }
      ],
      "source": [
        "# код для получения списка городов-милионников\n",
        "\n",
        "url = \"https://ru.wikipedia.org/wiki/%D0%93%D0%BE%D1%80%D0%BE%D0%B4%D0%B0-%D0%BC%D0%B8%D0%BB%D0%BB%D0%B8%D0%BE%D0%BD%D0%B5%D1%80%D1%8B_%D0%A0%D0%BE%D1%81%D1%81%D0%B8%D0%B8\" \n",
        "\n",
        "# Загрузить HTML-страницу\n",
        "response = requests.get(url)\n",
        "response.raise_for_status()  # Проверка на наличие ошибок при запросе\n",
        "\n",
        "# Парсинг HTML с использованием BeautifulSoup\n",
        "soup = BeautifulSoup(response.text, 'html.parser')\n",
        "\n",
        "# Найти таблицу с классом \"standard sortable\"\n",
        "table = soup.find('table', {'class': 'standard sortable'})\n",
        "\n",
        "# Извлечь заголовок второго столбца\n",
        "headers = [th.text.strip() for th in table.find_all('th')]\n",
        "second_column_header = headers[1]\n",
        "\n",
        "# Извлечь данные второго столбца\n",
        "second_column_data = []\n",
        "for row in table.find_all('tr')[1:]:  # Пропустить заголовок таблицы\n",
        "    cols = row.find_all('td')\n",
        "    if len(cols) > 1:  \n",
        "        second_column_data.append(cols[1].text.strip())\n",
        "\n",
        "# Создать DataFrame с только вторым столбцом\n",
        "cities_of_millions = pd.DataFrame({second_column_header: second_column_data})\n",
        "cities_of_millions.head(2)\n"
      ]
    },
    {
      "cell_type": "code",
      "execution_count": 101,
      "id": "5a0e32a4-e68a-4365-8a39-2fe24c542c36",
      "metadata": {
        "id": "5a0e32a4-e68a-4365-8a39-2fe24c542c36"
      },
      "outputs": [],
      "source": [
        "# текст запроса\n",
        "\n",
        "# преобразовать список городов в формат строки для SQL-запроса\n",
        "cities_list = cities_of_millions['Город'].apply(lambda x: f\"'{x}'\").tolist()\n",
        "cities_str = ', '.join(cities_list)\n",
        "\n",
        "query_15 = f'''\n",
        "with av as (select a.name as город , count(a.name) as count\n",
        "from employers as e\n",
        "inner join vacancies as v on e.id = v.employer_id\n",
        "inner join areas as a on v.area_id = a.id\n",
        "where e.name = 'Яндекс'\n",
        "group by город \n",
        "order by count) \n",
        "\n",
        "select город, count\n",
        "from av\n",
        "where город in ({cities_str})\n",
        "\n",
        "union all\n",
        "\n",
        "select 'Total' AS город, SUM(count) AS count\n",
        "from av\n",
        "where город in ({cities_str});\n",
        "'''"
      ]
    },
    {
      "cell_type": "code",
      "execution_count": 100,
      "id": "ttPhiO1rsvPq",
      "metadata": {
        "id": "ttPhiO1rsvPq"
      },
      "outputs": [
        {
          "data": {
            "text/html": [
              "<div>\n",
              "<style scoped>\n",
              "    .dataframe tbody tr th:only-of-type {\n",
              "        vertical-align: middle;\n",
              "    }\n",
              "\n",
              "    .dataframe tbody tr th {\n",
              "        vertical-align: top;\n",
              "    }\n",
              "\n",
              "    .dataframe thead th {\n",
              "        text-align: right;\n",
              "    }\n",
              "</style>\n",
              "<table border=\"1\" class=\"dataframe\">\n",
              "  <thead>\n",
              "    <tr style=\"text-align: right;\">\n",
              "      <th></th>\n",
              "      <th>город</th>\n",
              "      <th>count</th>\n",
              "    </tr>\n",
              "  </thead>\n",
              "  <tbody>\n",
              "    <tr>\n",
              "      <th>0</th>\n",
              "      <td>Омск</td>\n",
              "      <td>21.0</td>\n",
              "    </tr>\n",
              "    <tr>\n",
              "      <th>1</th>\n",
              "      <td>Челябинск</td>\n",
              "      <td>22.0</td>\n",
              "    </tr>\n",
              "    <tr>\n",
              "      <th>2</th>\n",
              "      <td>Красноярск</td>\n",
              "      <td>23.0</td>\n",
              "    </tr>\n",
              "    <tr>\n",
              "      <th>3</th>\n",
              "      <td>Волгоград</td>\n",
              "      <td>24.0</td>\n",
              "    </tr>\n",
              "    <tr>\n",
              "      <th>4</th>\n",
              "      <td>Пермь</td>\n",
              "      <td>25.0</td>\n",
              "    </tr>\n",
              "    <tr>\n",
              "      <th>5</th>\n",
              "      <td>Казань</td>\n",
              "      <td>25.0</td>\n",
              "    </tr>\n",
              "    <tr>\n",
              "      <th>6</th>\n",
              "      <td>Ростов-на-Дону</td>\n",
              "      <td>25.0</td>\n",
              "    </tr>\n",
              "    <tr>\n",
              "      <th>7</th>\n",
              "      <td>Уфа</td>\n",
              "      <td>26.0</td>\n",
              "    </tr>\n",
              "    <tr>\n",
              "      <th>8</th>\n",
              "      <td>Самара</td>\n",
              "      <td>26.0</td>\n",
              "    </tr>\n",
              "    <tr>\n",
              "      <th>9</th>\n",
              "      <td>Краснодар</td>\n",
              "      <td>30.0</td>\n",
              "    </tr>\n",
              "    <tr>\n",
              "      <th>10</th>\n",
              "      <td>Воронеж</td>\n",
              "      <td>32.0</td>\n",
              "    </tr>\n",
              "    <tr>\n",
              "      <th>11</th>\n",
              "      <td>Новосибирск</td>\n",
              "      <td>35.0</td>\n",
              "    </tr>\n",
              "    <tr>\n",
              "      <th>12</th>\n",
              "      <td>Нижний Новгород</td>\n",
              "      <td>36.0</td>\n",
              "    </tr>\n",
              "    <tr>\n",
              "      <th>13</th>\n",
              "      <td>Екатеринбург</td>\n",
              "      <td>39.0</td>\n",
              "    </tr>\n",
              "    <tr>\n",
              "      <th>14</th>\n",
              "      <td>Санкт-Петербург</td>\n",
              "      <td>42.0</td>\n",
              "    </tr>\n",
              "    <tr>\n",
              "      <th>15</th>\n",
              "      <td>Москва</td>\n",
              "      <td>54.0</td>\n",
              "    </tr>\n",
              "    <tr>\n",
              "      <th>16</th>\n",
              "      <td>Total</td>\n",
              "      <td>485.0</td>\n",
              "    </tr>\n",
              "  </tbody>\n",
              "</table>\n",
              "</div>"
            ],
            "text/plain": [
              "              город  count\n",
              "0              Омск   21.0\n",
              "1         Челябинск   22.0\n",
              "2        Красноярск   23.0\n",
              "3         Волгоград   24.0\n",
              "4             Пермь   25.0\n",
              "5            Казань   25.0\n",
              "6    Ростов-на-Дону   25.0\n",
              "7               Уфа   26.0\n",
              "8            Самара   26.0\n",
              "9         Краснодар   30.0\n",
              "10          Воронеж   32.0\n",
              "11      Новосибирск   35.0\n",
              "12  Нижний Новгород   36.0\n",
              "13     Екатеринбург   39.0\n",
              "14  Санкт-Петербург   42.0\n",
              "15           Москва   54.0\n",
              "16            Total  485.0"
            ]
          },
          "execution_count": 100,
          "metadata": {},
          "output_type": "execute_result"
        }
      ],
      "source": [
        "# результат запроса\n",
        "yandex_stat = pd.read_sql_query(query_15, connection)\n",
        "yandex_stat\n"
      ]
    },
    {
      "cell_type": "markdown",
      "id": "04966e40-3bc3-4dc8-9ba2-e80580ce3abc",
      "metadata": {
        "id": "04966e40-3bc3-4dc8-9ba2-e80580ce3abc"
      },
      "source": [
        "***"
      ]
    },
    {
      "cell_type": "code",
      "execution_count": 104,
      "id": "aGGyER-yt4SR",
      "metadata": {
        "id": "aGGyER-yt4SR"
      },
      "outputs": [
        {
          "data": {
            "image/png": "[encoded data removed]",
            "text/plain": [
              "<Figure size 640x480 with 1 Axes>"
            ]
          },
          "metadata": {},
          "output_type": "display_data"
        }
      ],
      "source": [
        "# выводы по анализу работодателей\n",
        "\n",
        "#Топ 10 работодателей по количеству вакансий\n",
        "top_10_employers = vacancies_employers.head(10)\n",
        "# Построение столбчатой диаграммы\n",
        "plt.bar(top_10_employers['name'], top_10_employers['count'])\n",
        "\n",
        "# Настройка заголовка и меток осей\n",
        "plt.title('Топ 10 работодателей по количеству вакансий')\n",
        "plt.xlabel('Работодатель')\n",
        "plt.ylabel('Количество вакансий')\n",
        "plt.xticks(rotation=80)\n",
        "plt.show()\n",
        "\n",
        "\n"
      ]
    },
    {
      "cell_type": "markdown",
      "id": "b1ef156a-efcb-49ce-bb23-90763e7f35b2",
      "metadata": {
        "id": "b1ef156a-efcb-49ce-bb23-90763e7f35b2",
        "tags": []
      },
      "source": [
        "# Юнит 6. Предметный анализ"
      ]
    },
    {
      "cell_type": "markdown",
      "id": "b9cd50a0-992d-4988-8463-2b2b1c4629b4",
      "metadata": {
        "id": "b9cd50a0-992d-4988-8463-2b2b1c4629b4"
      },
      "source": [
        "1. Сколько вакансий имеет отношение к данным?\n",
        "\n",
        "Считаем, что вакансия имеет отношение к данным, если в её названии содержатся слова 'data' или 'данн'.\n",
        "\n",
        "*Подсказка: Обратите внимание, что названия вакансий могут быть написаны в любом регистре.* \n"
      ]
    },
    {
      "cell_type": "code",
      "execution_count": 108,
      "id": "54ab0e50-c0f1-47cc-a54b-bc5c8bc363f9",
      "metadata": {
        "id": "54ab0e50-c0f1-47cc-a54b-bc5c8bc363f9"
      },
      "outputs": [],
      "source": [
        "# текст запроса\n",
        "query_16 = f'''\n",
        "select \tcount(*)\n",
        "from vacancies\n",
        "where name ilike '%data%' or name ilike '%данн%'\n",
        "'''"
      ]
    },
    {
      "cell_type": "code",
      "execution_count": 258,
      "id": "9F1meAqsuUjd",
      "metadata": {
        "id": "9F1meAqsuUjd"
      },
      "outputs": [
        {
          "name": "stdout",
          "output_type": "stream",
          "text": [
            "Вакансий имеющих отношение к данным: 1771\n"
          ]
        }
      ],
      "source": [
        "# результат запроса\n",
        "with connection.cursor() as cur:\n",
        "    # Выполняем запрос\n",
        "    cur.execute(query_16)\n",
        "\n",
        "    # Получаем результат\n",
        "    ds_vacancies_count = cur.fetchone()[0]\n",
        "    print(f'Вакансий имеющих отношение к данным: {ds_vacancies_count}')"
      ]
    },
    {
      "cell_type": "markdown",
      "id": "4dea20cb-a36b-474a-a0b9-e08e8e3857a5",
      "metadata": {
        "id": "4dea20cb-a36b-474a-a0b9-e08e8e3857a5"
      },
      "source": [
        "2. Сколько есть подходящих вакансий для начинающего дата-сайентиста? \n",
        "Будем считать вакансиями для дата-сайентистов такие, в названии которых есть хотя бы одно из следующих сочетаний:\n",
        "* 'data scientist'\n",
        "* 'data science'\n",
        "* 'исследователь данных'\n",
        "* 'ML' (здесь не нужно брать вакансии по HTML)\n",
        "* 'machine learning'\n",
        "* 'машинн%обучен%'\n",
        "\n",
        "** В следующих заданиях мы продолжим работать с вакансиями по этому условию.*\n",
        "\n",
        "Считаем вакансиями для специалистов уровня Junior следующие:\n",
        "* в названии есть слово 'junior' *или*\n",
        "* требуемый опыт — Нет опыта *или*\n",
        "* тип трудоустройства — Стажировка.\n",
        " "
      ]
    },
    {
      "cell_type": "code",
      "execution_count": 260,
      "id": "9c61b3c0-bb66-46c9-ae1e-81d3f5752b4a",
      "metadata": {
        "id": "9c61b3c0-bb66-46c9-ae1e-81d3f5752b4a"
      },
      "outputs": [],
      "source": [
        "# текст запроса\n",
        "query_17 = '''\n",
        "select count(*)\n",
        "from vacancies\n",
        "where \t(name ilike '%data scientist%' or \n",
        "\t\t name ilike '%data science%' or \n",
        "\t\t name ilike '%исследователь данных%' or \n",
        "\t\t(name ilike '%ml%' and name not ilike '%html%') or\n",
        "\t\t name ilike '%machine learning%' or \n",
        "\t\t name ilike '%машинн%обучен%') and\n",
        "\t\t(name ilike '%junior%' or\n",
        "\t\t experience ilike '%нет опыта%' or\n",
        "\t\t employment ilike '%стажировка%')'''"
      ]
    },
    {
      "cell_type": "code",
      "execution_count": 261,
      "id": "ZNM-LLYuu1dj",
      "metadata": {
        "id": "ZNM-LLYuu1dj"
      },
      "outputs": [
        {
          "name": "stdout",
          "output_type": "stream",
          "text": [
            "Подходящих вакансий для начинающего дата-сайентиста: 51\n"
          ]
        }
      ],
      "source": [
        "# результат запроса\n",
        "with connection.cursor() as cur:\n",
        "    # Выполняем запрос\n",
        "    cur.execute(query_17)\n",
        "\n",
        "    # Получаем результат\n",
        "    junior_ds_vacancy_cnt = cur.fetchone()[0]\n",
        "    print(f'Подходящих вакансий для начинающего дата-сайентиста: {junior_ds_vacancy_cnt}')"
      ]
    },
    {
      "cell_type": "markdown",
      "id": "eedceb80-c5ca-480e-b27a-278dfb8b4438",
      "metadata": {
        "id": "eedceb80-c5ca-480e-b27a-278dfb8b4438"
      },
      "source": [
        "3. Сколько есть вакансий для DS, в которых в качестве ключевого навыка указан SQL или postgres?\n",
        "\n",
        "** Критерии для отнесения вакансии к DS указаны в предыдущем задании.*"
      ]
    },
    {
      "cell_type": "code",
      "execution_count": 265,
      "id": "69621713-0cc5-4f1b-a1d7-bb144fa6148c",
      "metadata": {
        "id": "69621713-0cc5-4f1b-a1d7-bb144fa6148c"
      },
      "outputs": [],
      "source": [
        "# текст запроса\n",
        "query_18 = '''\n",
        "select count(*)\n",
        "from vacancies\n",
        "where \t(name ilike '%data scientist%' or \n",
        "\t\t name ilike '%data science%' or \n",
        "\t\t name ilike '%исследователь данных%' or \n",
        "\t\t(name ilike '%ml%' and name not ilike '%html%') or\n",
        "\t\t name ilike '%machine learning%' or \n",
        "\t\t name ilike '%машинн%обучен%') and\n",
        "\t\t(key_skills like '%SQL%' or\n",
        "\t\t key_skills like '%postgres%')'''"
      ]
    },
    {
      "cell_type": "code",
      "execution_count": 266,
      "id": "alA8WEAAvGdf",
      "metadata": {
        "id": "alA8WEAAvGdf"
      },
      "outputs": [
        {
          "name": "stdout",
          "output_type": "stream",
          "text": [
            "Вакансий для DS, в которых в качестве ключевого навыка указан SQL или postgres: 229\n"
          ]
        }
      ],
      "source": [
        "# результат запроса\n",
        "with connection.cursor() as cur:\n",
        "    # Выполняем запрос\n",
        "    cur.execute(query_18)\n",
        "\n",
        "    # Получаем результат\n",
        "    db_skill_cnt = cur.fetchone()[0]\n",
        "    print(f'Вакансий для DS, в которых в качестве ключевого навыка указан SQL или postgres: {db_skill_cnt}')"
      ]
    },
    {
      "cell_type": "markdown",
      "id": "1be1e9c6-37cf-4a5f-bfeb-04cab799dc80",
      "metadata": {
        "id": "1be1e9c6-37cf-4a5f-bfeb-04cab799dc80"
      },
      "source": [
        "4. Проверьте, насколько популярен Python в требованиях работодателей к DS.Для этого вычислите количество вакансий, в которых в качестве ключевого навыка указан Python.\n",
        "\n",
        "** Это можно сделать помощью запроса, аналогичного предыдущему.*"
      ]
    },
    {
      "cell_type": "code",
      "execution_count": 263,
      "id": "0036a355-9ccf-4564-8b01-73d8194297e7",
      "metadata": {
        "id": "0036a355-9ccf-4564-8b01-73d8194297e7"
      },
      "outputs": [],
      "source": [
        "# текст запроса\n",
        "query_19 = '''\n",
        "select count(*)\n",
        "from vacancies\n",
        "where \t(name ilike '%data scientist%' or \n",
        "\t\t name ilike '%data science%' or \n",
        "\t\t name ilike '%исследователь данных%' or \n",
        "\t\t(name ilike '%ml%' and name not ilike '%html%') or\n",
        "\t\t name ilike '%machine learning%' or \n",
        "\t\t name ilike '%машинн%обучен%') and\n",
        "\t\t(key_skills ilike '%Python%')'''"
      ]
    },
    {
      "cell_type": "code",
      "execution_count": 264,
      "id": "1i-5WyucvQ6v",
      "metadata": {
        "id": "1i-5WyucvQ6v"
      },
      "outputs": [
        {
          "name": "stdout",
          "output_type": "stream",
          "text": [
            "Количество вакансий, в которых в качестве ключевого навыка указан Python: 357\n"
          ]
        }
      ],
      "source": [
        "# результат запроса\n",
        "with connection.cursor() as cur:\n",
        "    # Выполняем запрос\n",
        "    cur.execute(query_19)\n",
        "\n",
        "    # Получаем результат\n",
        "    pyhton_skill_cnt = cur.fetchone()[0]\n",
        "    print(f'Количество вакансий, в которых в качестве ключевого навыка указан Python: {pyhton_skill_cnt}')"
      ]
    },
    {
      "cell_type": "markdown",
      "id": "ec3c8db7-fa21-4a41-a994-1af63742a642",
      "metadata": {
        "id": "ec3c8db7-fa21-4a41-a994-1af63742a642"
      },
      "source": [
        "5. Сколько ключевых навыков в среднем указывают в вакансиях для DS?\n",
        "Ответ округлите до двух знаков после точки-разделителя."
      ]
    },
    {
      "cell_type": "code",
      "execution_count": 225,
      "id": "949132bc-d5b6-4611-8218-0b9a504d74f4",
      "metadata": {
        "id": "949132bc-d5b6-4611-8218-0b9a504d74f4"
      },
      "outputs": [],
      "source": [
        "# текст запроса\n",
        "query_20 = '''\n",
        "select key_skills\n",
        "from vacancies\n",
        "where \t(name ilike '%data scientist%' or \n",
        "\t\t name ilike '%data science%' or \n",
        "\t\t name ilike '%исследователь данных%' or \n",
        "\t\t(name like '%ML%' and name not ilike '%HTML%') or\n",
        "\t\t name ilike '%machine learning%' or \n",
        "\t\t name ilike '%машинн%обучен%') \n",
        "         and (key_skills is not null)'''"
      ]
    },
    {
      "cell_type": "code",
      "execution_count": 269,
      "id": "a3V24Tvmviqk",
      "metadata": {
        "id": "a3V24Tvmviqk"
      },
      "outputs": [
        {
          "name": "stdout",
          "output_type": "stream",
          "text": [
            "В вакансиях для DS ключевых навыков в среднем указывают: 6.41\n"
          ]
        }
      ],
      "source": [
        "# результат запроса\n",
        "ds_vacansies = pd.read_sql_query(query_20, connection)\n",
        "\n",
        "#добавить атрибут количество навыков\n",
        "ds_vacansies['skills_count'] = ds_vacansies['key_skills'].apply(lambda x: len(str(x).split('\\t')))\n",
        "\n",
        "print(f\"В вакансиях для DS ключевых навыков в среднем указывают: {ds_vacansies['skills_count'].mean():.2f}\")"
      ]
    },
    {
      "cell_type": "markdown",
      "id": "1041c17a-ca8f-4543-a0ca-32778914fb00",
      "metadata": {
        "id": "1041c17a-ca8f-4543-a0ca-32778914fb00"
      },
      "source": [
        "6. Напишите запрос, позволяющий вычислить, какую зарплату для DS в **среднем** указывают для каждого типа требуемого опыта (уникальное значение из поля *experience*). \n",
        "\n",
        "При решении задачи примите во внимание следующее:\n",
        "1. Рассматриваем только вакансии, у которых заполнено хотя бы одно из двух полей с зарплатой.\n",
        "2. Если заполнены оба поля с зарплатой, то считаем зарплату по каждой вакансии как сумму двух полей, делённую на 2. Если заполнено только одно из полей, то его и считаем зарплатой по вакансии.\n",
        "3. Если в расчётах участвует null, в результате он тоже даст null (посмотрите, что возвращает запрос select 1 + null). Чтобы избежать этой ситуацию, мы воспользуемся функцией [coalesce](https://postgrespro.ru/docs/postgresql/9.5/functions-conditional#functions-coalesce-nvl-ifnull), которая заменит null на значение, которое мы передадим. Например, посмотрите, что возвращает запрос `select 1 + coalesce(null, 0)`\n",
        "\n",
        "Выясните, на какую зарплату в среднем может рассчитывать дата-сайентист с опытом работы от 3 до 6 лет. Результат округлите до целого числа. "
      ]
    },
    {
      "cell_type": "code",
      "execution_count": 227,
      "id": "6a743d39-5204-48d3-8271-b9f88e68d40e",
      "metadata": {
        "id": "6a743d39-5204-48d3-8271-b9f88e68d40e"
      },
      "outputs": [],
      "source": [
        "# текст запроса\n",
        "query_21 = '''\n",
        "select experience,\n",
        "    round(avg(coalesce((salary_from + salary_to) / 2, salary_from, salary_to)),0)  AS average_salary\n",
        "FROM vacancies\n",
        "WHERE (name ilike '%data scientist%' or \n",
        "\t\t name ilike '%data science%' or \n",
        "\t\t name ilike '%исследователь данных%' or \n",
        "\t\t(name like '%ML%' and name not like '%HTML%') or\n",
        "\t\t name ilike '%machine learning%' or \n",
        "\t\t name ilike '%машинн%обучен%') \n",
        "         and (salary_from is not null or salary_to is not null)\n",
        "GROUP BY experience;'''"
      ]
    },
    {
      "cell_type": "code",
      "execution_count": 267,
      "id": "aRIJ0mZEwU1_",
      "metadata": {
        "id": "aRIJ0mZEwU1_"
      },
      "outputs": [
        {
          "name": "stdout",
          "output_type": "stream",
          "text": [
            "В среднем дата-сайентист с опытом работы от 3 до 6 лет может рассчитывать на зарплату: 243115\n"
          ]
        }
      ],
      "source": [
        "# результат запроса\n",
        "ds_salary = pd.read_sql_query(query_21, connection)\n",
        "ds_mean_salary = int(ds_salary[ds_salary['experience']=='От 3 до 6 лет']['average_salary'].iloc[0])\n",
        "print(f'''В среднем дата-сайентист с опытом работы от 3 до 6 лет может рассчитывать на зарплату: {ds_mean_salary}''')"
      ]
    },
    {
      "cell_type": "markdown",
      "id": "6a7892b4-4113-4746-adce-18aa2844f18e",
      "metadata": {
        "id": "6a7892b4-4113-4746-adce-18aa2844f18e"
      },
      "source": [
        "***"
      ]
    },
    {
      "cell_type": "code",
      "execution_count": 272,
      "id": "UjLWUptVwY1o",
      "metadata": {
        "id": "UjLWUptVwY1o"
      },
      "outputs": [
        {
          "name": "stdout",
          "output_type": "stream",
          "text": [
            "\n",
            "Несмотря большое количество вакансий с умениями дата-сайентиста - 1771, спроса на начинающих  дата-сайентистов почти нет , всего 51 вакансия.\n",
            "Также наблюдается более высокая востребованность в умениях работать с Python нежели c БД.\n",
            "Большую роль играет количество навыков требуемых работодателем.\n",
            "        \n",
            "Вакансий имеющих отношение к данным: 1771\n",
            "Подходящих вакансий для начинающего дата-сайентиста: 51\n",
            "Количество вакансий, в которых в качестве ключевого навыка указан Python: 357\n",
            "Вакансий для DS, в которых в качестве ключевого навыка указан SQL или postgres: 229\n",
            "В среднем дата-сайентист с опытом работы от 3 до 6 лет может рассчитывать на зарплату: 243115\n",
            "В вакансиях для DS ключевых навыков в среднем указывают: 6.41\n"
          ]
        }
      ],
      "source": [
        "# выводы по предметному анализу\n",
        "print('''\n",
        "Несмотря большое количество вакансий с умениями дата-сайентиста - 1771, спроса на начинающих  дата-сайентистов почти нет , всего 51 вакансия.\n",
        "Также наблюдается более высокая востребованность в умениях работать с Python нежели c БД.\n",
        "Большую роль играет количество навыков требуемых работодателем.\n",
        "        ''')\n",
        "\n",
        "print(f'Вакансий имеющих отношение к данным: {ds_vacancies_count}')\n",
        "print(f'Подходящих вакансий для начинающего дата-сайентиста: {junior_ds_vacancy_cnt}')\n",
        "print(f'Количество вакансий, в которых в качестве ключевого навыка указан Python: {pyhton_skill_cnt}')\n",
        "print(f'Вакансий для DS, в которых в качестве ключевого навыка указан SQL или postgres: {db_skill_cnt}')\n",
        "print(f'В среднем дата-сайентист с опытом работы от 3 до 6 лет может рассчитывать на зарплату: {ds_mean_salary}')\n",
        "print(f\"В вакансиях для DS ключевых навыков в среднем указывают: {ds_vacansies['skills_count'].mean():.2f}\")\n",
        "\n",
        "\n"
      ]
    },
    {
      "cell_type": "markdown",
      "id": "c0ED6fh7wiBT",
      "metadata": {
        "id": "c0ED6fh7wiBT"
      },
      "source": [
        "# Общий вывод по проекту\n",
        "\n",
        "На рынке труда професия дата-сайентиста остается достаточно востребованной. Вакансии есть во всех крупных регионах. \n",
        "Наиболее важными атрибутами дата-сайентиста для работодателя является опыт работы и умение работать с Python и SQL.\n",
        "Количество вакансий для начинающих специалистов в этой области явно оставляет желать лучшего. Возможно это свидетельствует о том что рынок уже вполне наполнен специалистами и пока не готов к новым. "
      ]
    },
    {
      "cell_type": "code",
      "execution_count": 286,
      "id": "h9B3BL-wwj18",
      "metadata": {
        "id": "h9B3BL-wwj18"
      },
      "outputs": [
        {
          "data": {
            "image/png": "[encoded data removed]",
            "text/plain": [
              "<Figure size 640x480 with 1 Axes>"
            ]
          },
          "metadata": {},
          "output_type": "display_data"
        }
      ],
      "source": [
        "# подведем итог исследования, обобщите выводы\n",
        "# здесь можно (это будет плюсом) провести дополнительные исследования данных, сделать прогнозы, продумать варианты продолжения исследования\n",
        "query = '''select *\n",
        "FROM vacancies\n",
        "WHERE (name ilike '%data scientist%' or \n",
        "\t\t name ilike '%data science%' or \n",
        "\t\t name ilike '%исследователь данных%' or \n",
        "\t\t(name like '%ML%' and name not like '%HTML%') or\n",
        "\t\t name ilike '%machine learning%' or \n",
        "\t\t name ilike '%машинн%обучен%') \n",
        "         and (salary_from is not null or salary_to is not null)'''\n",
        "         \n",
        "df = pd.read_sql_query(query, connection)\n",
        "\n",
        "# Удаление NaN и пустых значений \n",
        "df['key_skills'] = df['key_skills'].fillna('')\n",
        "\n",
        "# Разделение и подсчет навыков в каждой вакансии\n",
        "skills = df['key_skills'].str.split('\\t').explode()\n",
        "skill_counts = Counter(skills)\n",
        "skills_df = pd.DataFrame(skill_counts.items(), columns=['skill', 'count'])\n",
        "\n",
        "# выбор топ-10 самых популярных навыков\n",
        "top_skills = skills_df.sort_values(by='count', ascending=False).head(10)\n",
        "\n",
        "\n",
        "top_skills.plot(kind='bar', x='skill', y='count', legend=False, title='Топ-10 самых популярных навыков')\n",
        "plt.ylabel('Количество упоминаний')\n",
        "plt.show()\n",
        " "
      ]
    },
    {
      "cell_type": "markdown",
      "id": "374b563b",
      "metadata": {},
      "source": [
        " Python на данный момент является самым востребованным навыком в вакансиях дата-сейтистов. Вторым по востребованности идет умение работать с БД."
      ]
    },
    {
      "cell_type": "markdown",
      "id": "f7421dbc",
      "metadata": {},
      "source": [
        "### Распределение зарплат по опыту работы"
      ]
    },
    {
      "cell_type": "code",
      "execution_count": 283,
      "id": "16da2a34",
      "metadata": {},
      "outputs": [
        {
          "data": {
            "image/png": "[encoded data removed]",
            "text/plain": [
              "<Figure size 640x480 with 1 Axes>"
            ]
          },
          "metadata": {},
          "output_type": "display_data"
        }
      ],
      "source": [
        "# Заполнение NaN значением 0 в колонках зарплаты для корректных расчетов\n",
        "df['salary_from'] = df['salary_from'].fillna(0)\n",
        "df['salary_to'] = df['salary_to'].fillna(0)\n",
        "\n",
        "# Средняя зарплата\n",
        "df['average_salary'] = (df['salary_from'] + df['salary_to']) / 2\n",
        "\n",
        "# Группировка данных по опыту и расчет средней зарплаты\n",
        "avg_salary_by_experience = df.groupby('experience')['average_salary'].mean()\n",
        "\n",
        "\n",
        "avg_salary_by_experience.plot(kind='bar', title='Средняя зарплата по опыту', ylabel='Средняя зарплата')\n",
        "plt.show()"
      ]
    },
    {
      "cell_type": "markdown",
      "id": "c6b9ea72",
      "metadata": {},
      "source": [
        "Больше опыта = больше зарплата. тут и добавить нечего."
      ]
    },
    {
      "cell_type": "markdown",
      "id": "c3a5537d",
      "metadata": {},
      "source": [
        "### Распределение вакансий по типам занятости"
      ]
    },
    {
      "cell_type": "code",
      "execution_count": 278,
      "id": "bba91f1b",
      "metadata": {},
      "outputs": [
        {
          "data": {
            "image/png": "[encoded data removed]",
            "text/plain": [
              "<Figure size 640x480 with 1 Axes>"
            ]
          },
          "metadata": {},
          "output_type": "display_data"
        }
      ],
      "source": [
        "# Группировка данных по типу занятости\n",
        "employment_counts = df['employment'].value_counts()\n",
        "    \n",
        "employment_counts.plot(kind='bar', title='Распределение вакансий по типам занятости', ylabel='Количество вакансий')\n",
        "plt.show()"
      ]
    },
    {
      "cell_type": "markdown",
      "id": "d0bd99a5",
      "metadata": {},
      "source": [
        "Работодатель явно хочет видеть работника в режиме полной занятости. Но несмотря на ето есть и вакансии без нее\n"
      ]
    },
    {
      "cell_type": "markdown",
      "id": "83695138",
      "metadata": {},
      "source": [
        "###  Анализ типов графика работы и их влияния на зарплату"
      ]
    },
    {
      "cell_type": "code",
      "execution_count": 284,
      "id": "d2b370ff",
      "metadata": {},
      "outputs": [
        {
          "data": {
            "image/png": "[encoded data removed]",
            "text/plain": [
              "<Figure size 640x480 with 1 Axes>"
            ]
          },
          "metadata": {},
          "output_type": "display_data"
        }
      ],
      "source": [
        "# Группировка данных по типу графика работы и расчет средней зарплаты\n",
        "avg_salary_by_schedule = df.groupby('schedule')['average_salary'].mean()\n",
        "\n",
        "avg_salary_by_schedule.plot(kind='bar', title='Средняя зарплата по типу графика работы', ylabel='Средняя зарплата')\n",
        "plt.show()"
      ]
    },
    {
      "cell_type": "markdown",
      "id": "61b46df5",
      "metadata": {},
      "source": [
        "Удаленная работа оценивается работодателем выше остальных типов. На втором месте полный рабочний день"
      ]
    }
  ],
  "metadata": {
    "colab": {
      "collapsed_sections": [
        "8d62a9f3-f64e-4fe7-bdac-c4dffa16155e"
      ],
      "provenance": []
    },
    "kernelspec": {
      "display_name": "Python 3 (ipykernel)",
      "language": "python",
      "name": "python3"
    },
    "language_info": {
      "codemirror_mode": {
        "name": "ipython",
        "version": 3
      },
      "file_extension": ".py",
      "mimetype": "text/x-python",
      "name": "python",
      "nbconvert_exporter": "python",
      "pygments_lexer": "ipython3",
      "version": "3.11.9"
    }
  },
  "nbformat": 4,
  "nbformat_minor": 5
}
